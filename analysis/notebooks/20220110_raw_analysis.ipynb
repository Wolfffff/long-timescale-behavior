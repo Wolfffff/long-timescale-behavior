{
 "cells": [
  {
   "cell_type": "markdown",
   "metadata": {},
   "source": [
    "# Raw track analysis notebook\n",
    "A notebook to analyze the raw trace data and find a reasonable set of smoothing parameters."
   ]
  },
  {
   "cell_type": "code",
   "execution_count": 4,
   "metadata": {},
   "outputs": [],
   "source": [
    "import logging\n",
    "from seaborn.distributions import distplot\n",
    "import seaborn as sns\n",
    "import matplotlib as mpl\n",
    "import matplotlib.pyplot as plt\n",
    "import palettable\n",
    "from matplotlib.colors import ListedColormap\n",
    "from tqdm import tqdm\n",
    "import pandas as pd\n",
    "import joypy\n",
    "import h5py\n",
    "import numpy as np\n",
    "from pathlib import Path\n",
    "import os\n",
    "import json\n",
    "from datetime import datetime\n",
    "import importlib\n",
    "\n",
    "wd = \"/Genomics/ayroleslab2/scott/long-timescale-behavior/analysis/\"\n",
    "os.chdir(wd)\n",
    "\n",
    "import utils.trx_utils as trx_utils\n",
    "\n",
    "data_dir = \"/Genomics/ayroleslab2/scott/long-timescale-behavior/data/\"\n",
    "track_dir = \"/Genomics/ayroleslab2/scott/long-timescale-behavior/data/track/\"\n",
    "\n",
    "logging.basicConfig(\n",
    "    format=\"%(asctime)s %(levelname)s: %(message)s\",\n",
    "    level=logging.INFO,\n",
    "    datefmt=\"%H:%M:%S\",\n",
    ")\n",
    "logger = logging.getLogger(\"analysis_logger\")\n"
   ]
  },
  {
   "cell_type": "markdown",
   "metadata": {},
   "source": [
    "# Load the h5 traces and sort by quadrant\n",
    "This uses hist_sort to assign each of the traces. Because the coordinate system is different, the y-axis is flipped to be in the same coordinate system as the image when sorted. That is, flip the y-xis to get (0,0) in the top left corner of our space."
   ]
  },
  {
   "cell_type": "code",
   "execution_count": 3,
   "metadata": {},
   "outputs": [],
   "source": [
    "exp1_cam1_h5s = [\n",
    "    \"exp2_cam1_0through23.tracked.analysis.h5\",\n",
    "    \"exp2_cam1_24through47.tracked.analysis.h5\",\n",
    "    \"exp2_cam1_48through71.tracked.analysis.h5\",\n",
    "    \"exp2_cam1_72through95.tracked.analysis.h5\",\n",
    "    \"exp2_cam1_96through119.tracked.analysis.h5\",\n",
    "]\n",
    "exp1_cam1_h5s = [track_dir + filename for filename in exp1_cam1_h5s]\n",
    "\n",
    "FMT = \"%w-%H:%M:%S\"\n",
    "\n",
    "# Dict for easy\n",
    "expmt_dict = {\n",
    "    \"exp1_cam1\": {\n",
    "        \"h5s\": exp1_cam1_h5s,\n",
    "        \"video\": \"exp1_cam1.mkv\",\n",
    "        \"frame_rate\": 100,\n",
    "        \"start_time\": datetime.strptime(\"0-22:33:00\", FMT),\n",
    "        \"camera\": \"1\",\n",
    "        \"experiment\": \"1\",\n",
    "        \"video_path\": \"/Genomics/ayroleslab2/scott/long-timescale-behavior/data/exp1/exp5_202109014_2233/Camera1/exp.mkv\",\n",
    "        \"px_mm\": 28.25,\n",
    "    }\n",
    "}\n",
    "px_mm = expmt_dict[\"exp1_cam1\"]['px_mm']\n",
    "\n",
    "tracks_dict = {}\n",
    "velocities_dict = {}"
   ]
  },
  {
   "cell_type": "markdown",
   "metadata": {},
   "source": [
    "# Load h5 traces and match by quadrant"
   ]
  },
  {
   "cell_type": "code",
   "execution_count": null,
   "metadata": {},
   "outputs": [],
   "source": [
    "for expmt in expmt_dict:\n",
    "    expmt = expmt_dict[expmt]\n",
    "    logger.info(str(expmt))\n",
    "\n",
    "    with h5py.File(expmt[\"h5s\"][0], \"r\") as f:\n",
    "        logger.info(expmt[\"h5s\"][0])\n",
    "        dset_names = list(f.keys())\n",
    "        # Note the assignment of node_names here!\n",
    "        node_names = [n.decode() for n in f[\"node_names\"][:]]\n",
    "        locations = f[\"tracks\"][:].T\n",
    "\n",
    "        locations[:, :, 1, :] = -locations[:, :, 1, :]\n",
    "        assignment_indices, locations, freq = trx_utils.hist_sort(\n",
    "            locations, ctr_idx=node_names.index(\"thorax\"), ymin=-1536, ymax=0\n",
    "        )\n",
    "        locations[:, :, 1, :] = -locations[:, :, 1, :]\n",
    "\n",
    "    if len(expmt[\"h5s\"]) > 1:\n",
    "        for filename in tqdm(expmt[\"h5s\"][1:]):\n",
    "            with h5py.File(filename, \"r\") as f:\n",
    "                temp_locations = f[\"tracks\"][:].T\n",
    "                temp_locations[:, :, 1, :] = -temp_locations[:, :, 1, :]\n",
    "                temp_assignment_indices, temp_locations, freq = trx_utils.hist_sort(\n",
    "                    temp_locations,\n",
    "                    ctr_idx=node_names.index(\"thorax\"),\n",
    "                    ymin=-1536,\n",
    "                    ymax=0,\n",
    "                )\n",
    "                temp_locations[:, :, 1, :] = -temp_locations[:, :, 1, :]\n",
    "\n",
    "                logger.info(filename)\n",
    "                logger.info(freq)\n",
    "\n",
    "                locations = np.concatenate((locations, temp_locations), axis=0)\n",
    "\n",
    "    # Final assignment as a safety\n",
    "    locations[:, :, 1, :] = -locations[:, :, 1, :]\n",
    "    assignment_indices, locations, freq = trx_utils.hist_sort(\n",
    "        locations, ctr_idx=node_names.index(\"thorax\"), ymin=-1536, ymax=0\n",
    "    )\n",
    "    locations[:, :, 1, :] = -locations[:, :, 1, :]\n",
    "\n",
    "    logger.info(f\"Final assignments: {freq}\")\n",
    "    logger.info(f\"Final frequencies: {assignment_indices}\")\n",
    "\n",
    "    tracks_dict[expmt] = locations\n",
    "    expmt_dict[expmt][\"assignments\"] = assignment_indices\n",
    "    expmt_dict[expmt][\"freq\"] = freq"
   ]
  },
  {
   "cell_type": "code",
   "execution_count": null,
   "metadata": {},
   "outputs": [],
   "source": [
    "for key in expmt_dict:\n",
    "    expmt = expmt_dict[key]\n",
    "    fly_node_locations = tracks_dict[key]\n",
    "    fly_node_locations_filled = trx_utils.fill_missing_np(fly_node_locations)\n",
    "    fly_node_locations_smoothed = trx_utils.smooth_median(fly_node_locations, window=5)\n",
    "    fly_node_locations_smoothed = trx_utils.smooth_gaussian(fly_node_locations, window=5)\n",
    "    fly_node_velocities = trx_utils.instance_node_velocities(\n",
    "            fly_node_locations, 0, fly_node_locations.shape[0]\n",
    "        ) * (1/px_mm) * expmt[\"frame_rate\"]\n",
    "    tracks_dict[key] = fly_node_locations\n",
    "    velocities_dict[key] = fly_node_velocities"
   ]
  },
  {
   "cell_type": "markdown",
   "metadata": {},
   "source": [
    "# Save\n",
    "Save the h5s if needed."
   ]
  },
  {
   "cell_type": "code",
   "execution_count": null,
   "metadata": {},
   "outputs": [],
   "source": [
    "json.dump(expmt_dict, open('expmt_dict.json', 'w'),default=str)\n",
    "\n",
    "for key in tqdm(expmt_dict):\n",
    "    data_file = h5py.File(data_dir + f\"{key}_fly_node_locations.h5\", 'w')\n",
    "    data_file.create_dataset('tracks', data=tracks_dict[key])#, compression='lzf')#'gzip', compression_opts=9)\n",
    "    data_file.close()\n",
    "\n",
    "    data_file = h5py.File(data_dir + f\"{key}_fly_node_velocities.h5\", 'w')\n",
    "    data_file.create_dataset('velocities', data=velocities_dict[key])#, compression='lzf')#'gzip', compression_opts=9)\n",
    "    data_file.close()"
   ]
  }
 ],
 "metadata": {
  "interpreter": {
   "hash": "177c836934b6a63d57a075b5cc3f7812a3de8a98495a556647184ecb20fdf5fb"
  },
  "kernelspec": {
   "display_name": "Python 3.7.11 64-bit ('sleap_dev': conda)",
   "language": "python",
   "name": "python3"
  },
  "language_info": {
   "codemirror_mode": {
    "name": "ipython",
    "version": 3
   },
   "file_extension": ".py",
   "mimetype": "text/x-python",
   "name": "python",
   "nbconvert_exporter": "python",
   "pygments_lexer": "ipython3",
   "version": "3.7.11"
  },
  "orig_nbformat": 4
 },
 "nbformat": 4,
 "nbformat_minor": 2
}
