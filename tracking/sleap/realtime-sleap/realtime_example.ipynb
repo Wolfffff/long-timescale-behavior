{
 "cells": [
  {
   "cell_type": "code",
   "execution_count": null,
   "source": [
    "import sys\n",
    "sys.path.append('./campy/')\n",
    "sys.path.append('./leap_rigs')"
   ],
   "outputs": [],
   "metadata": {}
  },
  {
   "cell_type": "code",
   "execution_count": null,
   "source": [
    "\n",
    "import campy.campy as campy\n",
    "import leap_rigs\n",
    "\n",
    "\n",
    "# From campy.py\n",
    "import numpy as np\n",
    "import os\n",
    "import time\n",
    "import sys\n",
    "import threading, queue\n",
    "from collections import deque\n",
    "import multiprocessing as mp\n",
    "from campy import CampyParams\n",
    "from campy.writer import campipe\n",
    "from campy.display import display\n",
    "from campy.cameras import unicam\n",
    "from argparse import ArgumentParser, ArgumentDefaultsHelpFormatter\n",
    "import ast\n",
    "import yaml\n",
    "import logging\n",
    "\n",
    "# From pilot_expt.py\n",
    "import leap_rigs\n",
    "import datetime\n",
    "import glob\n",
    "import h5py\n"
   ],
   "outputs": [],
   "metadata": {}
  },
  {
   "cell_type": "code",
   "execution_count": null,
   "source": [
    "print(\"?\")"
   ],
   "outputs": [],
   "metadata": {}
  },
  {
   "cell_type": "code",
   "execution_count": null,
   "source": [
    "params = campy.LoadConfig(\"campy/configs/config_1cam_cpu.yaml\")\n",
    "params = campy.LoadSystemsAndDevices(params)\n",
    "\n",
    "model_paths = [\n",
    "    \"leap_rigs/models/centroids.200823_193403.UNet.zip\",\n",
    "    \"leap_rigs/wt_gold.13pt.multiclass_topdown.zip\",\n",
    "]\n",
    "\n",
    "expt_name = datetime.datetime.now().strftime(\"%y%m%d_%H%M%S\")\n",
    "data_path = f\"./trial.{expt_name}.h5\"\n",
    "\n",
    "metadata = {\"title\": expt_name}"
   ],
   "outputs": [],
   "metadata": {}
  },
  {
   "cell_type": "code",
   "execution_count": null,
   "source": [
    "if params[\"ffmpegPath\"]:\n",
    "    os.environ[\"IMAGEIO_FFMPEG_EXE\"] = params[\"ffmpegPath\"]\n",
    "while True:\n",
    "        try:\n",
    "            if sys.platform == \"win32\":\n",
    "                pool = mp.Pool(processes=params[\"numCams\"])\n",
    "                pool.map(campy.AcquireOneCamera, range(0, params[\"numCams\"]))\n",
    "            elif sys.platform == \"linux\" or sys.platform == \"linux2\":\n",
    "                ctx = mp.get_context(\"spawn\")  # for linux compatibility\n",
    "                pool = ctx.Pool(processes=params[\"numCams\"])\n",
    "                p = pool.map_async(campy.AcquireOneCamera, range(0, params[\"numCams\"]))\n",
    "                p.get()\n",
    "\n",
    "        except KeyboardInterrupt:\n",
    "            print(\"Keyboard interrupted\")\n",
    "        break\n",
    "\n",
    "campy.CloseSystems(params)"
   ],
   "outputs": [],
   "metadata": {}
  },
  {
   "cell_type": "code",
   "execution_count": null,
   "source": [
    "params"
   ],
   "outputs": [],
   "metadata": {}
  },
  {
   "cell_type": "code",
   "execution_count": null,
   "source": [],
   "outputs": [],
   "metadata": {}
  }
 ],
 "metadata": {
  "orig_nbformat": 4,
  "language_info": {
   "name": "python",
   "version": "3.7.10",
   "mimetype": "text/x-python",
   "codemirror_mode": {
    "name": "ipython",
    "version": 3
   },
   "pygments_lexer": "ipython3",
   "nbconvert_exporter": "python",
   "file_extension": ".py"
  },
  "kernelspec": {
   "name": "python3",
   "display_name": "Python 3.7.10 64-bit ('long-timescale-behavior': conda)"
  },
  "interpreter": {
   "hash": "664930127d03011590d2dc8c3911d323f4c8c538aca5a6519e275d41c3c7f8b5"
  }
 },
 "nbformat": 4,
 "nbformat_minor": 2
}