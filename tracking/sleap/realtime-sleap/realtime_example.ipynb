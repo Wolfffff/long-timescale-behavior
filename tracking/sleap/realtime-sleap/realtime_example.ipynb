{
 "cells": [
  {
   "cell_type": "code",
   "execution_count": 1,
   "source": [
    "import sys\n",
    "import os\n",
    "os.chdir('/Users/wolf/git/long-timescale-behavior/tracking/sleap/realtime-sleap/')\n",
    "sys.path.append('./campy')\n",
    "sys.path.append('./leap_rigs')"
   ],
   "outputs": [],
   "metadata": {}
  },
  {
   "cell_type": "code",
   "execution_count": 23,
   "source": [
    "import campy.campy.utils.utils"
   ],
   "outputs": [],
   "metadata": {}
  },
  {
   "cell_type": "code",
   "execution_count": 19,
   "source": [
    "\n",
    "# import campy\n",
    "# import leap_rigs\n",
    "\n",
    "\n",
    "# # From campy.py\n",
    "# import numpy as np\n",
    "# import os\n",
    "# import time\n",
    "# import sys\n",
    "# import threading, queue\n",
    "# from collections import deque\n",
    "# import multiprocessing as mp\n",
    "# from campy.writer import campipe\n",
    "# from campy.display import display\n",
    "# from campy.cameras import unicam\n",
    "# from argparse import ArgumentParser, ArgumentDefaultsHelpFormatter\n",
    "# import ast\n",
    "# import yaml\n",
    "# import logging\n",
    "\n",
    "# # From pilot_expt.py\n",
    "# import leap_rigs\n",
    "# import datetime\n",
    "# import glob\n",
    "# import h5py\n"
   ],
   "outputs": [
    {
     "output_type": "error",
     "ename": "ImportError",
     "evalue": "cannot import name 'writer' from 'campy' (./campy/campy/campy.py)",
     "traceback": [
      "\u001b[0;31m---------------------------------------------------------------------------\u001b[0m",
      "\u001b[0;31mImportError\u001b[0m                               Traceback (most recent call last)",
      "\u001b[0;32m<ipython-input-19-5e4add4c723c>\u001b[0m in \u001b[0;36m<module>\u001b[0;34m\u001b[0m\n\u001b[0;32m----> 1\u001b[0;31m \u001b[0;32mfrom\u001b[0m \u001b[0mcampy\u001b[0m\u001b[0;34m.\u001b[0m\u001b[0mcampy\u001b[0m \u001b[0;32mimport\u001b[0m \u001b[0mwriter\u001b[0m\u001b[0;34m\u001b[0m\u001b[0;34m\u001b[0m\u001b[0m\n\u001b[0m\u001b[1;32m      2\u001b[0m \u001b[0;31m# import campy\u001b[0m\u001b[0;34m\u001b[0m\u001b[0;34m\u001b[0m\u001b[0;34m\u001b[0m\u001b[0m\n\u001b[1;32m      3\u001b[0m \u001b[0;31m# import leap_rigs\u001b[0m\u001b[0;34m\u001b[0m\u001b[0;34m\u001b[0m\u001b[0;34m\u001b[0m\u001b[0m\n\u001b[1;32m      4\u001b[0m \u001b[0;34m\u001b[0m\u001b[0m\n\u001b[1;32m      5\u001b[0m \u001b[0;34m\u001b[0m\u001b[0m\n",
      "\u001b[0;32m~/git/long-timescale-behavior/tracking/sleap/realtime-sleap/campy/campy/campy.py\u001b[0m in \u001b[0;36m<module>\u001b[0;34m\u001b[0m\n\u001b[1;32m     20\u001b[0m \u001b[0;32mfrom\u001b[0m \u001b[0mcollections\u001b[0m \u001b[0;32mimport\u001b[0m \u001b[0mdeque\u001b[0m\u001b[0;34m\u001b[0m\u001b[0;34m\u001b[0m\u001b[0m\n\u001b[1;32m     21\u001b[0m \u001b[0;32mimport\u001b[0m \u001b[0mmultiprocessing\u001b[0m \u001b[0;32mas\u001b[0m \u001b[0mmp\u001b[0m\u001b[0;34m\u001b[0m\u001b[0;34m\u001b[0m\u001b[0m\n\u001b[0;32m---> 22\u001b[0;31m \u001b[0;32mfrom\u001b[0m \u001b[0mcampy\u001b[0m \u001b[0;32mimport\u001b[0m \u001b[0mwriter\u001b[0m\u001b[0;34m,\u001b[0m \u001b[0mdisplay\u001b[0m\u001b[0;34m,\u001b[0m \u001b[0mconfigurator\u001b[0m\u001b[0;34m\u001b[0m\u001b[0;34m\u001b[0m\u001b[0m\n\u001b[0m\u001b[1;32m     23\u001b[0m \u001b[0;32mfrom\u001b[0m \u001b[0mcampy\u001b[0m\u001b[0;34m.\u001b[0m\u001b[0mtrigger\u001b[0m \u001b[0;32mimport\u001b[0m \u001b[0mtrigger\u001b[0m\u001b[0;34m\u001b[0m\u001b[0;34m\u001b[0m\u001b[0m\n\u001b[1;32m     24\u001b[0m \u001b[0;32mfrom\u001b[0m \u001b[0mcampy\u001b[0m\u001b[0;34m.\u001b[0m\u001b[0mcameras\u001b[0m \u001b[0;32mimport\u001b[0m \u001b[0municam\u001b[0m\u001b[0;34m\u001b[0m\u001b[0;34m\u001b[0m\u001b[0m\n",
      "\u001b[0;31mImportError\u001b[0m: cannot import name 'writer' from 'campy' (./campy/campy/campy.py)"
     ]
    }
   ],
   "metadata": {}
  },
  {
   "cell_type": "code",
   "execution_count": null,
   "source": [
    "print(\"?\")"
   ],
   "outputs": [],
   "metadata": {}
  },
  {
   "cell_type": "code",
   "execution_count": null,
   "source": [],
   "outputs": [],
   "metadata": {}
  },
  {
   "cell_type": "code",
   "execution_count": null,
   "source": [
    "params = campy.LoadConfig(\"campy/configs/config_1cam_cpu.yaml\")\n",
    "params = campy.LoadSystemsAndDevices(params)\n",
    "\n",
    "model_paths = [\n",
    "    \"leap_rigs/models/centroids.200823_193403.UNet.zip\",\n",
    "    \"leap_rigs/wt_gold.13pt.multiclass_topdown.zip\",\n",
    "]\n",
    "\n",
    "expt_name = datetime.datetime.now().strftime(\"%y%m%d_%H%M%S\")\n",
    "data_path = f\"./trial.{expt_name}.h5\"\n",
    "\n",
    "metadata = {\"title\": expt_name}"
   ],
   "outputs": [],
   "metadata": {}
  },
  {
   "cell_type": "code",
   "execution_count": null,
   "source": [
    "if params[\"ffmpegPath\"]:\n",
    "    os.environ[\"IMAGEIO_FFMPEG_EXE\"] = params[\"ffmpegPath\"]\n",
    "while True:\n",
    "        try:\n",
    "            if sys.platform == \"win32\":\n",
    "                pool = mp.Pool(processes=params[\"numCams\"])\n",
    "                pool.map(campy.AcquireOneCamera, range(0, params[\"numCams\"]))\n",
    "            elif sys.platform == \"linux\" or sys.platform == \"linux2\":\n",
    "                ctx = mp.get_context(\"spawn\")  # for linux compatibility\n",
    "                pool = ctx.Pool(processes=params[\"numCams\"])\n",
    "                p = pool.map_async(campy.AcquireOneCamera, range(0, params[\"numCams\"]))\n",
    "                p.get()\n",
    "\n",
    "        except KeyboardInterrupt:\n",
    "            print(\"Keyboard interrupted\")\n",
    "        break\n",
    "\n",
    "campy.CloseSystems(params)"
   ],
   "outputs": [],
   "metadata": {}
  },
  {
   "cell_type": "code",
   "execution_count": null,
   "source": [
    "params"
   ],
   "outputs": [],
   "metadata": {}
  },
  {
   "cell_type": "code",
   "execution_count": null,
   "source": [],
   "outputs": [],
   "metadata": {}
  }
 ],
 "metadata": {
  "orig_nbformat": 4,
  "language_info": {
   "name": "python",
   "version": "3.7.10",
   "mimetype": "text/x-python",
   "codemirror_mode": {
    "name": "ipython",
    "version": 3
   },
   "pygments_lexer": "ipython3",
   "nbconvert_exporter": "python",
   "file_extension": ".py"
  },
  "kernelspec": {
   "name": "python3",
   "display_name": "Python 3.7.10 64-bit ('long-timescale-behavior': conda)"
  },
  "interpreter": {
   "hash": "664930127d03011590d2dc8c3911d323f4c8c538aca5a6519e275d41c3c7f8b5"
  }
 },
 "nbformat": 4,
 "nbformat_minor": 2
}